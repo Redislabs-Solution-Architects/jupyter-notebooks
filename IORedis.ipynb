{
 "cells": [
  {
   "cell_type": "markdown",
   "id": "4c49f89b",
   "metadata": {},
   "source": [
    "## Genesys IORedis Insights\n",
    "#### Kevin Martin & DaShaun Carter"
   ]
  },
  {
   "cell_type": "markdown",
   "id": "aa3dba8f",
   "metadata": {
    "slideshow": {
     "slide_type": "subslide"
    }
   },
   "source": [
    "- Demonstrate default behavior\n",
    "- Demonstrate Exit On Max Retry\n",
    "- Demonstrate Fail Fast\n",
    "- Additional considerations with each"
   ]
  },
  {
   "cell_type": "code",
   "execution_count": null,
   "id": "1edafaba",
   "metadata": {
    "slideshow": {
     "slide_type": "slide"
    }
   },
   "outputs": [],
   "source": [
    "docker stop /jupyter-genesys\n",
    "docker rm /jupyter-genesys\n",
    "docker run --name jupyter-genesys -d -p 6379:6379 redislabs/redismod:latest"
   ]
  },
  {
   "cell_type": "code",
   "execution_count": null,
   "id": "de624c9f",
   "metadata": {
    "slideshow": {
     "slide_type": "slide"
    }
   },
   "outputs": [],
   "source": [
    "rm -rf ioredis-test\n",
    "git clone https://github.com/Aslan11/ioredis-test\n",
    "cd ioredis-test\n",
    "npm i"
   ]
  },
  {
   "cell_type": "markdown",
   "id": "ff8f9b34",
   "metadata": {
    "slideshow": {
     "slide_type": "slide"
    }
   },
   "source": [
    "### Default behavior"
   ]
  },
  {
   "cell_type": "code",
   "execution_count": null,
   "id": "4dcc8418",
   "metadata": {},
   "outputs": [],
   "source": [
    "sleep 10"
   ]
  },
  {
   "cell_type": "code",
   "execution_count": null,
   "id": "40cad169",
   "metadata": {
    "slideshow": {
     "slide_type": "slide"
    }
   },
   "outputs": [],
   "source": [
    "clear\n",
    "redis-cli flushdb\n",
    "DEBUG=* node index.js -i 45 >&1 &                  ## Run this in the background, but show output, defaults 60s\n",
    "sleep 5 && docker stop /jupyter-genesys &    ## Sleep 5 seconds and stop Redis\n",
    "sleep 30 && docker start /jupyter-genesys &  ## Sleep 30 seconds and start Redis\n",
    "sleep 45                                     ## Sleep 75 seconds (starts after flushdb)\n",
    "echo \"*******************\"\n",
    "redis-cli keys '*' | sort -V                 ## Now show sorted keys\n",
    "sleep 5                                      ## Just to make sure there is no more output :) "
   ]
  },
  {
   "cell_type": "code",
   "execution_count": null,
   "id": "e7324e4d",
   "metadata": {
    "slideshow": {
     "slide_type": "slide"
    }
   },
   "outputs": [],
   "source": [
    "clear\n",
    "echo \"Exit on Max Retries Example\"\n",
    "redis-cli flushdb\n",
    "DEBUG=* node index.js -e >&1 &               ## Run this in the background, but show output, defaults 60s\n",
    "sleep 5 && docker stop /jupyter-genesys &    ## Sleep 5 seconds and stop Redis\n",
    "sleep 30 && docker start /jupyter-genesys &  ## Sleep 30 seconds and start Redis\n",
    "sleep 65                                     ## Sleep 75 seconds (starts after flushdb)\n",
    "echo \"*******************\"\n",
    "redis-cli keys '*' | sort -V                 ## Now show sorted keys\n",
    "sleep 5 "
   ]
  },
  {
   "cell_type": "code",
   "execution_count": null,
   "id": "2add67b2",
   "metadata": {
    "slideshow": {
     "slide_type": "slide"
    }
   },
   "outputs": [],
   "source": [
    "clear\n",
    "redis-cli flushdb\n",
    "DEBUG=* node index.js -f -i 30 >&1 &         ## Run this in the background, but show output, defaults 60s can pass in a '-r 5' to see exit on retryStrategy\n",
    "sleep 5 && docker stop /jupyter-genesys &    ## Sleep 5 seconds and stop Redis\n",
    "sleep 15 && docker start /jupyter-genesys &  ## Sleep 15 seconds and start Redis\n",
    "sleep 35                                     ## Sleep 35 seconds (starts after flushdb)\n",
    "echo \"*******************\"\n",
    "redis-cli keys '*' | sort -V                 ## Now show sorted keys\n",
    "sleep 5 "
   ]
  },
  {
   "cell_type": "code",
   "execution_count": null,
   "id": "ee689c9e",
   "metadata": {},
   "outputs": [],
   "source": []
  }
 ],
 "metadata": {
  "celltoolbar": "Slideshow",
  "kernelspec": {
   "display_name": "Bash",
   "language": "bash",
   "name": "bash"
  },
  "language_info": {
   "codemirror_mode": "shell",
   "file_extension": ".sh",
   "mimetype": "text/x-sh",
   "name": "bash"
  }
 },
 "nbformat": 4,
 "nbformat_minor": 5
}
